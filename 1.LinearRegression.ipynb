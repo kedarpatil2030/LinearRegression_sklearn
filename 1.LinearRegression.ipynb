{
 "cells": [
  {
   "cell_type": "code",
   "execution_count": 8,
   "id": "4fe156d5-e764-42fc-b2b7-668a8078df47",
   "metadata": {},
   "outputs": [
    {
     "name": "stdout",
     "output_type": "stream",
     "text": [
      "[[570405.40540541]]\n"
     ]
    }
   ],
   "source": [
    "\n",
    "from sklearn.linear_model import LinearRegression\n",
    "\n",
    "#training the data\n",
    "x=[[10000],[50000],[80000]]  #Size in sq ft\n",
    "y=[[600000],[700000],[800000]] #Price\n",
    "\n",
    "#Train and learn the model\n",
    "model=LinearRegression()\n",
    "model.fit(x,y)\n",
    "\n",
    "#predict the price\n",
    "predicated_Price=model.predict([[1000]])\n",
    "print(predicated_Price)"
   ]
  },
  {
   "cell_type": "code",
   "execution_count": null,
   "id": "b98e8509-9498-4c68-83db-510d21dc2283",
   "metadata": {},
   "outputs": [],
   "source": []
  },
  {
   "cell_type": "code",
   "execution_count": null,
   "id": "82a9cde3-50f7-43d3-bbbb-0d19e89b2649",
   "metadata": {},
   "outputs": [],
   "source": []
  }
 ],
 "metadata": {
  "kernelspec": {
   "display_name": "Python 3 (ipykernel)",
   "language": "python",
   "name": "python3"
  },
  "language_info": {
   "codemirror_mode": {
    "name": "ipython",
    "version": 3
   },
   "file_extension": ".py",
   "mimetype": "text/x-python",
   "name": "python",
   "nbconvert_exporter": "python",
   "pygments_lexer": "ipython3",
   "version": "3.13.5"
  }
 },
 "nbformat": 4,
 "nbformat_minor": 5
}
